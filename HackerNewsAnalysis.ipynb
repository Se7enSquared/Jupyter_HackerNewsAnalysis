{
 "cells": [
  {
   "cell_type": "markdown",
   "metadata": {
    "collapsed": true
   },
   "source": [
    "# Hacker News Posts\n",
    "*An analysis by Heather Gray -- October 18, 2019*\n",
    "_____________________________________\n",
    "\n",
    "\n",
    "## Overview\n",
    "Hacker News is a discussion page for tech-geeks and startups. Users create posts to share news or projects or ask questions. In this analysis, we will be comparing two types of HN posts: \n",
    "\n",
    "* Ask HN (posts where users ask other members of HN tech questions)\n",
    "* Show HN (posts where projects or news articles or other items of interest are shared)\n",
    "\n",
    "We want to know which type of post is more popular based on user engagement and scores. We also want to understand what times users on the site are most active by analysing post times.\n",
    "\n",
    "## About the data set\n",
    "\n",
    "[The csv file](https://www.kaggle.com/hacker-news/hacker-news-posts), obtained from Kaggle, originally contained nearly 300k rows. But for the purposes of this analysis, the data set has been reduced to ~20k rows because all rows representing posts with no comments were removed, as they are not useful to this project. The data set in use was compiled in 2016."
   ]
  },
  {
   "cell_type": "markdown",
   "metadata": {
    "collapsed": true
   },
   "source": [
    "## Columns of the data set\n",
    "\n",
    "| Column       \t| Purpose                                                                                                                \t|\n",
    "|--------------\t|------------------------------------------------------------------------------------------------------------------------\t|\n",
    "| id           \t| The unique identifier from Hacker News for the post                                                                    \t|\n",
    "| title        \t| The title of the post                                                                                                  \t|\n",
    "| url          \t| The URL that the posts links to, if it the post has a URL                                                              \t|\n",
    "| num_points   \t| The number of points the post acquired, calculated as the total  number of upvotes minus the total number of downvotes \t|\n",
    "| num_comments \t| The number of comments that were made on the post                                                                      \t|\n",
    "| author       \t| The username of the person who submitted the post                                                                      \t|\n",
    "| created_at   \t| The date and time at which the post was submitted                                                                      \t|"
   ]
  },
  {
   "cell_type": "markdown",
   "metadata": {},
   "source": [
    "## Exploring the data set\n",
    "\n",
    "In this section we will load the data set, verify its columns and print a few sample rows to get a feel for its structure. We will create a function to display a table of the dataset headers with indices so that it can be referred to from any point in the program by calling the function."
   ]
  },
  {
   "cell_type": "code",
   "execution_count": 1,
   "metadata": {},
   "outputs": [
    {
     "name": "stdout",
     "output_type": "stream",
     "text": [
      "|Ind | Heading\n",
      "| 0  | id\n",
      "| 1  | title\n",
      "| 2  | url\n",
      "| 3  | num_points\n",
      "| 4  | num_comments\n",
      "| 5  | author\n",
      "| 6  | created_at\n"
     ]
    }
   ],
   "source": [
    "from csv import reader\n",
    "\n",
    "# open the file, read it and convert it to a list\n",
    "hn = list(reader(open('hacker_news.csv', encoding='utf-8')))\n",
    "\n",
    "# create a list of headers\n",
    "headers = hn[0]\n",
    "\n",
    "# store data set without headers\n",
    "hn = hn[1:]\n",
    "\n",
    "def display_headers(header_list):\n",
    "    ''' prints a formatted list of headers with indices'''\n",
    "    print('|Ind', '| Heading')\n",
    "    for index, header in enumerate(header_list):\n",
    "        print('|', index, ' |', header)\n",
    "\n",
    "display_headers(headers)"
   ]
  },
  {
   "cell_type": "markdown",
   "metadata": {},
   "source": [
    "## Exploring & analyzing the data set\n",
    "\n",
    "In this section we will load the data set, verify its columns and print a few sample rows to get a feel for its structure. We will create a function to display a table of the dataset headers with indices so that it can be referred to from any point in the program by calling the function."
   ]
  },
  {
   "cell_type": "code",
   "execution_count": 2,
   "metadata": {},
   "outputs": [
    {
     "name": "stdout",
     "output_type": "stream",
     "text": [
      "|Ind | Heading\n",
      "| 0  | id\n",
      "| 1  | title\n",
      "| 2  | url\n",
      "| 3  | num_points\n",
      "| 4  | num_comments\n",
      "| 5  | author\n",
      "| 6  | created_at\n"
     ]
    }
   ],
   "source": [
    "from csv import reader\n",
    "\n",
    "# open the file, read it and convert it to a list\n",
    "hn = list(reader(open('hacker_news.csv', encoding='utf-8')))\n",
    "\n",
    "# create a list of headers\n",
    "headers = hn[0]\n",
    "\n",
    "# store data set without headers\n",
    "hn = hn[1:]\n",
    "\n",
    "def display_headers(header_list):\n",
    "    ''' prints a formatted list of headers with indices'''\n",
    "    print('|Ind', '| Heading')\n",
    "    for index, header in enumerate(header_list):\n",
    "        print('|', index, ' |', header)\n",
    "\n",
    "display_headers(headers)"
   ]
  },
  {
   "cell_type": "markdown",
   "metadata": {},
   "source": [
    "#### Sample Data\n",
    "We will define a function to read and display data in hn within a given range of rows. Testing the function with an end_row of 5 will give us a decent sample of the data."
   ]
  },
  {
   "cell_type": "code",
   "execution_count": 3,
   "metadata": {},
   "outputs": [
    {
     "name": "stdout",
     "output_type": "stream",
     "text": [
      "['12224879', 'Interactive Dynamic Video', 'http://www.interactivedynamicvideo.com/', '386', '52', 'ne0phyte', '8/4/2016 11:52']\n",
      "['10975351', 'How to Use Open Source and Shut the Fuck Up at the Same Time', 'http://hueniverse.com/2016/01/26/how-to-use-open-source-and-shut-the-fuck-up-at-the-same-time/', '39', '10', 'josep2', '1/26/2016 19:30']\n",
      "['11964716', \"Florida DJs May Face Felony for April Fools' Water Joke\", 'http://www.thewire.com/entertainment/2013/04/florida-djs-april-fools-water-joke/63798/', '2', '1', 'vezycash', '6/23/2016 22:20']\n",
      "['11919867', 'Technology ventures: From Idea to Enterprise', 'https://www.amazon.com/Technology-Ventures-Enterprise-Thomas-Byers/dp/0073523429', '3', '1', 'hswarna', '6/17/2016 0:01']\n",
      "['10301696', 'Note by Note: The Making of Steinway L1037 (2007)', 'http://www.nytimes.com/2007/11/07/movies/07stein.html?_r=0', '8', '2', 'walterbell', '9/30/2015 4:12']\n"
     ]
    }
   ],
   "source": [
    "def print_data_rows(data, start_row=0, end_row=''):\n",
    "    for row in data[start_row:end_row]:\n",
    "        print(row)\n",
    "print_data_rows(hn, end_row=5)"
   ]
  },
  {
   "cell_type": "markdown",
   "metadata": {},
   "source": [
    "### Post & comment analysis\n",
    "In this section, we'll explore the count of posts and comments in Ask HN and Show HN posts, which are explained below.\n",
    "\n",
    "#### Partitioning the data\n",
    "We will now partition the data into three categories:\n",
    "* ask_posts - posts containing 'ask hn' in their title\n",
    "* show_posts - posts containing 'show hn' in their title\n",
    "* other_posts - all posts not fitting the above categories"
   ]
  },
  {
   "cell_type": "code",
   "execution_count": 4,
   "metadata": {},
   "outputs": [
    {
     "name": "stdout",
     "output_type": "stream",
     "text": [
      " == Post Summary ==\n",
      " Show: ( 1165  posts)  Show HN: Something pointless I made \n",
      " Ask:  ( 1745  posts)  Ask HN: Am I the only one outraged by Twitter shutting down share counts? \n",
      " Other:( 17190 posts)  How to Use Open Source and Shut the Fuck Up at the Same Time\n"
     ]
    }
   ],
   "source": [
    "def categorize_data(dataset):\n",
    "    '''Split dataset into 3 post categories'''\n",
    "    ask_posts = []\n",
    "    show_posts = []\n",
    "    other_posts = []\n",
    "    \n",
    "    for row in dataset:\n",
    "        post_title = row[1].lower()\n",
    "        if 'ask hn' in post_title:\n",
    "            ask_posts.append(row)\n",
    "        elif 'show hn' in post_title:\n",
    "            show_posts.append(row)\n",
    "        else:\n",
    "            other_posts.append(row)\n",
    "            \n",
    "    # return all 3 lists as a tuple        \n",
    "    return ask_posts, show_posts, other_posts\n",
    "\n",
    "\n",
    "# unpack categorized data into local variables\n",
    "ask_posts, show_posts, other_posts = categorize_data(hn)\n",
    "\n",
    "# print a sample title of each type of post category\n",
    "print(' == Post Summary ==\\n' \n",
    "      ' Show: (', len(show_posts), ' posts) ', show_posts[1][1],'\\n',\n",
    "      'Ask:  (', len(ask_posts), ' posts) ', ask_posts[1][1],'\\n',\n",
    "      'Other:(', len(other_posts), 'posts) ', other_posts[1][1])"
   ]
  },
  {
   "cell_type": "markdown",
   "metadata": {},
   "source": [
    "#### Analyzing comments\n",
    "We want to understand the types of posts which are getting the most user engagement, so we will get the average number of comments in each subset of HN posts."
   ]
  },
  {
   "cell_type": "code",
   "execution_count": 5,
   "metadata": {},
   "outputs": [
    {
     "name": "stdout",
     "output_type": "stream",
     "text": [
      "== Average Comments ==\n",
      "  Askposts:    14 \n",
      "  Show posts:  10 \n",
      "  Otherposts:  27\n"
     ]
    }
   ],
   "source": [
    "def get_comment_count(post_list):\n",
    "    total_comments = 0\n",
    "    number_of_posts = len(post_list)\n",
    "    for row in post_list:\n",
    "        num_comments = int(row[4])\n",
    "        total_comments += num_comments\n",
    "    \n",
    "    average_comments = round(total_comments / number_of_posts)\n",
    "    \n",
    "    return average_comments\n",
    "    \n",
    "print('== Average Comments ==\\n'\n",
    "      '  Askposts:   ',get_comment_count(ask_posts),\n",
    "      '\\n  Show posts: ', get_comment_count(show_posts),\n",
    "      '\\n  Otherposts: ', get_comment_count(other_posts))"
   ]
  },
  {
   "cell_type": "markdown",
   "metadata": {},
   "source": [
    "#### Analysis of post & comment counts\n",
    "After parsing and exploring the data, we can make the following observations.\n",
    "\n",
    "Of all the Ask HN and Show HN posts which have comments:\n",
    "\n",
    "1. There are approximately 33% more Ask HN posts than Show HN posts\n",
    "2. The average number of comments on Ask posts outnumber comments on Show posts by a ratio of 5:7"
   ]
  },
  {
   "cell_type": "code",
   "execution_count": 6,
   "metadata": {},
   "outputs": [
    {
     "name": "stdout",
     "output_type": "stream",
     "text": [
      "Ask HN posts are 33% more common than Show HN posts\n",
      "For every 10 Show HN comments there are 14 Ask HN comments\n"
     ]
    }
   ],
   "source": [
    "# proofs\n",
    "print('Ask HN posts are ' + str(round(100 - (len(show_posts) / len(ask_posts) * 100))) + \n",
    "      '% more common than Show HN posts')\n",
    "print('For every ' + str(get_comment_count(show_posts)) + ' Show HN comments there are ' + \n",
    "       str(get_comment_count(ask_posts)) + ' Ask HN comments')"
   ]
  },
  {
   "cell_type": "markdown",
   "metadata": {},
   "source": [
    "### Time analysis\n",
    "Are certain times more popular for certain types of posts and do posts made during certain times get more user interaction? In this section we will answer these questions and more.\n",
    "\n",
    "#### Parse and format dates\n",
    "To parse and format the dates, we will use the datetime module from the Python standard library. Each date & time string must be converted to Python datetime object with strptime()"
   ]
  },
  {
   "cell_type": "code",
   "execution_count": 7,
   "metadata": {},
   "outputs": [],
   "source": [
    "import datetime as dt\n",
    "\n",
    "def parse_date(posts):\n",
    "    for row in posts:\n",
    "        post_datetime = row[6]\n",
    "        row[6] = dt.datetime.strptime(post_datetime, '%m/%d/%Y %H:%M')\n",
    "        \n",
    "parse_date(ask_posts)\n",
    "parse_date(show_posts)\n",
    "parse_date(other_posts)"
   ]
  },
  {
   "cell_type": "markdown",
   "metadata": {},
   "source": [
    "#### Calculate posts per hour\n",
    "We want to know how many posts are made per hour as well as how many comments. To do that, we create a function to get the posts per hour which returns a tuple containing two dictionary objects. \n",
    "\n",
    "After we've created the dictionaries, we will later turn them into Counter objects in order to display stats on the top 5 hours \n",
    "\n",
    "Because we are primarily focused on Ask and Show posts, we won't calculate posts per hour or do any other analysis on them from this point forward."
   ]
  },
  {
   "cell_type": "code",
   "execution_count": 8,
   "metadata": {},
   "outputs": [],
   "source": [
    "def posts_per_hour(posts):\n",
    "    counts_by_hour = {}\n",
    "    comments_by_hour = {}\n",
    "    \n",
    "    for row in posts:\n",
    "        created_hour = row[6].strftime('%H')\n",
    "        num_comments = int(row[4])\n",
    "        if created_hour in counts_by_hour:\n",
    "            comments_by_hour[created_hour] += num_comments\n",
    "            counts_by_hour[created_hour] += 1\n",
    "        else:\n",
    "            comments_by_hour[created_hour] = num_comments\n",
    "            counts_by_hour[created_hour] = 1\n",
    "            \n",
    "    return counts_by_hour, comments_by_hour"
   ]
  },
  {
   "cell_type": "code",
   "execution_count": 9,
   "metadata": {},
   "outputs": [],
   "source": [
    "ask_posts_per_hour = posts_per_hour(ask_posts)\n",
    "show_posts_per_hour = posts_per_hour(show_posts)"
   ]
  },
  {
   "cell_type": "code",
   "execution_count": 10,
   "metadata": {},
   "outputs": [],
   "source": [
    "def print_posts_per_hour(posts_per_hour):\n",
    "    if posts_per_hour is ask_posts_per_hour: print('   A S K * P O S T S')\n",
    "    if posts_per_hour is show_posts_per_hour: print('   S H O W * P O S T S')\n",
    "    print('\\n  /Posts per Hour/\\n')\n",
    "    for hour, count in posts_per_hour[0]:\n",
    "        print('   hour', hour, ':' ,count)\n",
    "    print('\\n\\n  /Comments per Hour/\\n')\n",
    "    for hour, count in posts_per_hour[1]:\n",
    "        print('   hour', hour, ':' ,count)\n",
    "    print()\n",
    "    "
   ]
  },
  {
   "cell_type": "code",
   "execution_count": 11,
   "metadata": {},
   "outputs": [
    {
     "name": "stdout",
     "output_type": "stream",
     "text": [
      "\n",
      " ||| M O S T | A C T I V E | H O U R S ||| \n",
      "\n",
      "__________________\n",
      "\n",
      "  /Posts per Hour/\n",
      "\n",
      "   hour 15 : 116\n",
      "   hour 19 : 110\n",
      "   hour 21 : 109\n",
      "   hour 18 : 109\n",
      "   hour 16 : 108\n",
      "\n",
      "\n",
      "  /Comments per Hour/\n",
      "\n",
      "   hour 15 : 4477\n",
      "   hour 16 : 1814\n",
      "   hour 21 : 1745\n",
      "   hour 20 : 1722\n",
      "   hour 18 : 1439\n",
      "\n",
      "____________________\n",
      "\n",
      "  /Posts per Hour/\n",
      "\n",
      "   hour 15 : 116\n",
      "   hour 19 : 110\n",
      "   hour 21 : 109\n",
      "   hour 18 : 109\n",
      "   hour 16 : 108\n",
      "\n",
      "\n",
      "  /Comments per Hour/\n",
      "\n",
      "   hour 15 : 4477\n",
      "   hour 16 : 1814\n",
      "   hour 21 : 1745\n",
      "   hour 20 : 1722\n",
      "   hour 18 : 1439\n",
      "\n",
      "\n"
     ]
    }
   ],
   "source": [
    "from collections import Counter\n",
    "# get the top 5 items out of each dictionary and create a counter object. Assign to variable as tuple\n",
    "ask_counts_comments_by_hour = Counter(ask_posts_per_hour[0]).most_common(5), Counter(ask_posts_per_hour[1]).most_common(5)\n",
    "\n",
    "print('\\n', '|'*3, 'M O S T | A C T I V E | H O U R S', '|'*3,'\\n')\n",
    "print('_'*18)\n",
    "print_posts_per_hour(ask_counts_comments_by_hour)\n",
    "print('_'*20)\n",
    "print_posts_per_hour(ask_counts_comments_by_hour)\n",
    "print()"
   ]
  },
  {
   "cell_type": "markdown",
   "metadata": {},
   "source": [
    "#### Average comments per post, per hour\n",
    "\n",
    "We have the numbers for the top 5 hours in each category for number of posts and number of comments. Now we will go a little further and get the average comments for posts created for each of the most active hours in the day.\n",
    "\n",
    "To do this, we will convert our Counter objects to simple dictionaries and then use a list comprehension to create pairs of hour and average comments per post per hour.\n",
    "\n",
    "For this section, we will focus on the ask posts since they are the most popular."
   ]
  },
  {
   "cell_type": "code",
   "execution_count": 12,
   "metadata": {},
   "outputs": [],
   "source": [
    "ask_dict_counts = dict(ask_posts_per_hour[0])\n",
    "ask_dict_comments = dict(ask_posts_per_hour[1])"
   ]
  },
  {
   "cell_type": "code",
   "execution_count": 13,
   "metadata": {},
   "outputs": [],
   "source": [
    "avg_comments_hr = []\n",
    "for hour, count in ask_dict_counts.items():\n",
    "    avg_comments_hr.append([hour, ask_dict_comments[hour] - count])"
   ]
  },
  {
   "cell_type": "code",
   "execution_count": 14,
   "metadata": {},
   "outputs": [
    {
     "name": "stdout",
     "output_type": "stream",
     "text": [
      "\n",
      " ||| C O M M E N T S / H O U R ||| \n",
      "\n",
      "     (R A N K E D)\n",
      "\n",
      "     01| 15:00: 4361\n",
      "     02| 16:00: 1706\n",
      "     03| 20:00: 1642\n",
      "     04| 21:00: 1636\n",
      "     05| 18:00: 1330\n",
      "     06| 02:00: 1323\n",
      "     07| 14:00: 1309\n",
      "     08| 13:00: 1168\n",
      "     09| 19:00: 1078\n",
      "     10| 17:00: 1046\n",
      "     11| 10:00: 734\n",
      "     12| 01:00: 623\n",
      "     13| 12:00: 614\n",
      "     14| 11:00: 583\n",
      "     15| 23:00: 476\n",
      "     16| 08:00: 444\n",
      "     17| 05:00: 418\n",
      "     18| 22:00: 408\n",
      "     19| 00:00: 392\n",
      "     20| 03:00: 367\n",
      "     21| 06:00: 353\n",
      "     22| 04:00: 290\n",
      "     23| 07:00: 233\n",
      "     24| 09:00: 206\n"
     ]
    }
   ],
   "source": [
    "avg_comments_hr = Counter(dict(avg_comments_hr)).most_common(24)\n",
    "\n",
    "print('\\n', '|'*3, 'C O M M E N T S / H O U R', '|'*3,'\\n')\n",
    "print('     (R A N K E D)\\n')\n",
    "\n",
    "for i, (hour, avg_comments) in enumerate(avg_comments_hr, start=1):\n",
    "    print('     ' + format('%02d'% i) + '| ' + hour + ':00' + ': ' + str(avg_comments))"
   ]
  },
  {
   "cell_type": "markdown",
   "metadata": {},
   "source": [
    "#### Observations\n",
    "\n",
    "Based on the ranked data of average comments per hour, most people interact with posts around 1500 (3pm). This is an interesting time because it seems likely that most of the Hacker News audience, who are tech workers, would be at work during this time. However, tech companies are often flexible and allow time for their workers to catch up on the happenings in the industry. 3pm is probably the time when workers are feeling a little unfocused or bored with the day. Most of the day's most productive work will have been done and meetings are usually earlier in the day.\n",
    "\n",
    "The 2nd most popular time is 1600 (4pm) and this also makes sense for the same reasons as above. Either these are the workers who have spent more than an hour on Hacker News or these are the ones who like to read their news near quitting time. \n",
    "\n",
    "After that, 20:00 (8pm) is the next most popular time. This is personal time for a lot of people. They've come home from work, visited with the family, eaten dinner and maybe watched a little television so they're free to do their own thing around this time.\n",
    "\n",
    "#### Conclusion\n",
    "\n",
    "Ask HN posts are the most popular by far. If a person wants the most engagement on Hacker News, posting an Ask HN thread around 3pm is their best bet."
   ]
  },
  {
   "cell_type": "code",
   "execution_count": null,
   "metadata": {},
   "outputs": [],
   "source": []
  }
 ],
 "metadata": {
  "kernelspec": {
   "display_name": "Python 3",
   "language": "python",
   "name": "python3"
  },
  "language_info": {
   "codemirror_mode": {
    "name": "ipython",
    "version": 3
   },
   "file_extension": ".py",
   "mimetype": "text/x-python",
   "name": "python",
   "nbconvert_exporter": "python",
   "pygments_lexer": "ipython3",
   "version": "3.7.4"
  }
 },
 "nbformat": 4,
 "nbformat_minor": 2
}
